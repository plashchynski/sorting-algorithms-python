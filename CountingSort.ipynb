{
 "cells": [
  {
   "cell_type": "markdown",
   "id": "7bcd9a85-979f-4692-813d-13937902167a",
   "metadata": {},
   "source": [
    "# Counting sort"
   ]
  },
  {
   "cell_type": "markdown",
   "id": "e28461a5-5e8b-47da-ae69-587753ecb269",
   "metadata": {},
   "source": [
    "## Implementation"
   ]
  },
  {
   "cell_type": "code",
   "execution_count": 9,
   "id": "c3b14fb6-e6c7-4856-a71b-dd32ccb2e846",
   "metadata": {},
   "outputs": [],
   "source": [
    "def counting_sort(list):\n",
    "    counting = [0] * (max(list)+1)\n",
    "    for value in list:\n",
    "        if counting[value]:\n",
    "            counting[value] += 1\n",
    "        else:\n",
    "            counting[value] = 1\n",
    "    result = []\n",
    "    for index, count in enumerate(counting):\n",
    "        if count > 0:\n",
    "            result += [index] * count\n",
    "    return result"
   ]
  },
  {
   "cell_type": "markdown",
   "id": "cb91c7f4-823f-4dcc-839f-6a7e2d798f47",
   "metadata": {},
   "source": [
    "## Demonstration"
   ]
  },
  {
   "cell_type": "markdown",
   "id": "c8ad1893-b21d-4bec-9d8a-b3ce525bee0f",
   "metadata": {},
   "source": [
    "Generate a sample list with random values"
   ]
  },
  {
   "cell_type": "code",
   "execution_count": 5,
   "id": "d37a5ec6-7fcd-4cfb-ab7b-7f6983781422",
   "metadata": {},
   "outputs": [
    {
     "name": "stdout",
     "output_type": "stream",
     "text": [
      "[299, 594, 981, 644, 6, 648, 266, 189, 430, 858, 558, 724, 597, 165, 234, 825, 568, 700, 543, 884, 663, 99, 824, 320, 191, 902, 627, 630, 152, 837, 429, 508, 686, 814, 842, 898, 219, 306, 163, 10, 437, 897, 138, 848, 806, 464, 868, 44, 422, 634, 436, 9, 701, 370, 980, 7, 853, 649, 797, 894, 57, 236, 385, 298, 908, 179, 55, 731, 79, 125, 212, 530, 716, 130, 918, 153, 511, 451, 905, 616, 171, 954, 413, 495, 348, 256, 512, 975, 857, 271, 917, 611, 506, 936, 671, 318, 886, 465, 186, 520]\n"
     ]
    }
   ],
   "source": [
    "import random\n",
    "\n",
    "sample_list = random.sample(range(1000), 100)\n",
    "\n",
    "print(sample_list)"
   ]
  },
  {
   "cell_type": "markdown",
   "id": "f6b45417-5afa-485d-9a32-94e6cf6359a6",
   "metadata": {},
   "source": [
    "Sort this sample with the soring function:"
   ]
  },
  {
   "cell_type": "code",
   "execution_count": 10,
   "id": "0f7d7a90-271d-4a03-8ab7-8b36c1f56c51",
   "metadata": {},
   "outputs": [
    {
     "name": "stdout",
     "output_type": "stream",
     "text": [
      "[6, 7, 9, 10, 44, 55, 57, 79, 99, 125, 130, 138, 152, 153, 163, 165, 171, 179, 186, 189, 191, 212, 219, 234, 236, 256, 266, 271, 298, 299, 306, 318, 320, 348, 370, 385, 413, 422, 429, 430, 436, 437, 451, 464, 465, 495, 506, 508, 511, 512, 520, 530, 543, 558, 568, 594, 597, 611, 616, 627, 630, 634, 644, 648, 649, 663, 671, 686, 700, 701, 716, 724, 731, 797, 806, 814, 824, 825, 837, 842, 848, 853, 857, 858, 868, 884, 886, 894, 897, 898, 902, 905, 908, 917, 918, 936, 954, 975, 980, 981]\n"
     ]
    }
   ],
   "source": [
    "result = counting_sort(sample_list)\n",
    "\n",
    "print(result)"
   ]
  }
 ],
 "metadata": {
  "kernelspec": {
   "display_name": "Python 3 (ipykernel)",
   "language": "python",
   "name": "python3"
  },
  "language_info": {
   "codemirror_mode": {
    "name": "ipython",
    "version": 3
   },
   "file_extension": ".py",
   "mimetype": "text/x-python",
   "name": "python",
   "nbconvert_exporter": "python",
   "pygments_lexer": "ipython3",
   "version": "3.9.7"
  }
 },
 "nbformat": 4,
 "nbformat_minor": 5
}
