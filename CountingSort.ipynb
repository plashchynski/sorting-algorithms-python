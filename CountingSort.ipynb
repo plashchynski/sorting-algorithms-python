{
 "cells": [
  {
   "cell_type": "markdown",
   "id": "7bcd9a85-979f-4692-813d-13937902167a",
   "metadata": {},
   "source": [
    "# Counting sort"
   ]
  },
  {
   "cell_type": "markdown",
   "id": "e28461a5-5e8b-47da-ae69-587753ecb269",
   "metadata": {},
   "source": [
    "## Implementation"
   ]
  },
  {
   "cell_type": "code",
   "execution_count": 1,
   "id": "c3b14fb6-e6c7-4856-a71b-dd32ccb2e846",
   "metadata": {},
   "outputs": [],
   "source": [
    "def counting_sort(list):\n",
    "    counting = [0] * (max(list)+1)\n",
    "    for value in list:\n",
    "        counting[value] += 1\n",
    "\n",
    "    result = []\n",
    "    for index, count in enumerate(counting):\n",
    "        if count > 0:\n",
    "            result += [index] * count\n",
    "    return result"
   ]
  },
  {
   "cell_type": "markdown",
   "id": "cb91c7f4-823f-4dcc-839f-6a7e2d798f47",
   "metadata": {},
   "source": [
    "## Demonstration"
   ]
  },
  {
   "cell_type": "markdown",
   "id": "c8ad1893-b21d-4bec-9d8a-b3ce525bee0f",
   "metadata": {},
   "source": [
    "Generate a sample list with random values"
   ]
  },
  {
   "cell_type": "code",
   "execution_count": 2,
   "id": "d37a5ec6-7fcd-4cfb-ab7b-7f6983781422",
   "metadata": {},
   "outputs": [
    {
     "name": "stdout",
     "output_type": "stream",
     "text": [
      "[257, 234, 590, 908, 24, 781, 722, 187, 603, 858, 37, 602, 740, 362, 677, 376, 405, 587, 448, 681, 460, 46, 950, 877, 696, 651, 827, 291, 709, 163, 226, 453, 937, 502, 91, 299, 979, 901, 207, 331, 593, 393, 546, 813, 22, 486, 718, 476, 989, 691, 993, 946, 63, 208, 763, 204, 341, 940, 391, 16, 784, 637, 592, 61, 601, 494, 363, 917, 498, 199, 540, 402, 702, 811, 842, 454, 566, 957, 313, 607, 456, 83, 238, 127, 977, 992, 968, 359, 583, 102, 440, 377, 867, 90, 996, 404, 984, 215, 715, 890]\n"
     ]
    }
   ],
   "source": [
    "import random\n",
    "\n",
    "sample_list = random.sample(range(1000), 100)\n",
    "\n",
    "print(sample_list)"
   ]
  },
  {
   "cell_type": "markdown",
   "id": "f6b45417-5afa-485d-9a32-94e6cf6359a6",
   "metadata": {},
   "source": [
    "Sort this sample with the soring function:"
   ]
  },
  {
   "cell_type": "code",
   "execution_count": 3,
   "id": "0f7d7a90-271d-4a03-8ab7-8b36c1f56c51",
   "metadata": {},
   "outputs": [
    {
     "name": "stdout",
     "output_type": "stream",
     "text": [
      "[16, 22, 24, 37, 46, 61, 63, 83, 90, 91, 102, 127, 163, 187, 199, 204, 207, 208, 215, 226, 234, 238, 257, 291, 299, 313, 331, 341, 359, 362, 363, 376, 377, 391, 393, 402, 404, 405, 440, 448, 453, 454, 456, 460, 476, 486, 494, 498, 502, 540, 546, 566, 583, 587, 590, 592, 593, 601, 602, 603, 607, 637, 651, 677, 681, 691, 696, 702, 709, 715, 718, 722, 740, 763, 781, 784, 811, 813, 827, 842, 858, 867, 877, 890, 901, 908, 917, 937, 940, 946, 950, 957, 968, 977, 979, 984, 989, 992, 993, 996]\n"
     ]
    }
   ],
   "source": [
    "result = counting_sort(sample_list)\n",
    "\n",
    "print(result)"
   ]
  }
 ],
 "metadata": {
  "kernelspec": {
   "display_name": "Python 3 (ipykernel)",
   "language": "python",
   "name": "python3"
  },
  "language_info": {
   "codemirror_mode": {
    "name": "ipython",
    "version": 3
   },
   "file_extension": ".py",
   "mimetype": "text/x-python",
   "name": "python",
   "nbconvert_exporter": "python",
   "pygments_lexer": "ipython3",
   "version": "3.9.7"
  }
 },
 "nbformat": 4,
 "nbformat_minor": 5
}
