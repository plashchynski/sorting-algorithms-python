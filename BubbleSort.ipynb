{
 "cells": [
  {
   "cell_type": "markdown",
   "id": "d4094822-5bb3-4814-be77-bbe6585d71d0",
   "metadata": {},
   "source": [
    "# Bubble sort"
   ]
  },
  {
   "cell_type": "markdown",
   "id": "fc51f1f2-7253-498c-a6cd-ff163c5f19a1",
   "metadata": {},
   "source": [
    "The Bubble sort algorithm works by repeatedly swapping the adjacent elements if they are in wrong order"
   ]
  },
  {
   "cell_type": "markdown",
   "id": "8d4ecd3a-f960-45f9-9dec-6bd253927324",
   "metadata": {},
   "source": [
    "## Implementation"
   ]
  },
  {
   "cell_type": "code",
   "execution_count": 1,
   "id": "01067581-3baa-4a2a-87bb-65370caf759d",
   "metadata": {},
   "outputs": [],
   "source": [
    "def bubble_sort(list):\n",
    "    swapped = True\n",
    "    n = len(list)-1\n",
    "    while swapped:\n",
    "        swapped = False\n",
    "        for index in range(n):\n",
    "            if list[index] > list[index+1]:\n",
    "                # Move a higher value forward by swapping list[index] and list[index+1] elements \n",
    "                list[index], list[index+1] = list[index+1], list[index]\n",
    "                swapped = True\n",
    "        n -= 1\n",
    "    return list"
   ]
  },
  {
   "cell_type": "markdown",
   "id": "a544ce47-0a1d-427a-9f10-d43b83af9be8",
   "metadata": {},
   "source": [
    "## Demonstration"
   ]
  },
  {
   "cell_type": "markdown",
   "id": "f1f1e3aa-aa4d-49c5-bdf4-6f3b8f981677",
   "metadata": {},
   "source": [
    "Generate a sample list with random values"
   ]
  },
  {
   "cell_type": "code",
   "execution_count": 2,
   "id": "0261c817-5eb5-4fce-bd6e-8b5b2317e735",
   "metadata": {},
   "outputs": [
    {
     "name": "stdout",
     "output_type": "stream",
     "text": [
      "[143, 440, 282, 752, 799, 72, 238, 721, 213, 267, 700, 759, 265, 328, 767, 256, 253, 504, 206, 911, 400, 633, 431, 189, 381, 920, 566, 538, 9, 104, 352, 166, 576, 680, 854, 394, 340, 371, 961, 119, 343, 540, 416, 953, 423, 83, 174, 88, 986, 992, 895, 618, 460, 148, 561, 112, 113, 37, 179, 866, 233, 403, 834, 751, 846, 769, 345, 966, 97, 806, 907, 151, 572, 912, 344, 490, 353, 809, 969, 225, 165, 785, 861, 588, 544, 883, 164, 290, 11, 445, 99, 13, 207, 479, 716, 432, 934, 731, 424, 266]\n"
     ]
    }
   ],
   "source": [
    "import random\n",
    "\n",
    "sample_list = random.sample(range(1000), 100)\n",
    "\n",
    "print(sample_list)"
   ]
  },
  {
   "cell_type": "markdown",
   "id": "1214c1b7-1750-46cb-8f1f-e6f833a452ee",
   "metadata": {},
   "source": [
    "Sort this sample with a Bubble sort function:"
   ]
  },
  {
   "cell_type": "code",
   "execution_count": 3,
   "id": "26abeadd-12e2-4a68-9da3-e4c9c182a792",
   "metadata": {},
   "outputs": [
    {
     "name": "stdout",
     "output_type": "stream",
     "text": [
      "[9, 11, 13, 37, 72, 83, 88, 97, 99, 104, 112, 113, 119, 143, 148, 151, 164, 165, 166, 174, 179, 189, 206, 207, 213, 225, 233, 238, 253, 256, 265, 266, 267, 282, 290, 328, 340, 343, 344, 345, 352, 353, 371, 381, 394, 400, 403, 416, 423, 424, 431, 432, 440, 445, 460, 479, 490, 504, 538, 540, 544, 561, 566, 572, 576, 588, 618, 633, 680, 700, 716, 721, 731, 751, 752, 759, 767, 769, 785, 799, 806, 809, 834, 846, 854, 861, 866, 883, 895, 907, 911, 912, 920, 934, 953, 961, 966, 969, 986, 992]\n"
     ]
    }
   ],
   "source": [
    "result = bubble_sort(sample_list)\n",
    "\n",
    "assert result == sorted(sample_list), \"The result is not sorted\"\n",
    "\n",
    "print(result)"
   ]
  },
  {
   "cell_type": "markdown",
   "id": "ef75c9b1-8e46-4de4-b737-8f27b2eb2e46",
   "metadata": {},
   "source": [
    "## Analysis"
   ]
  },
  {
   "cell_type": "markdown",
   "id": "60fa93fc-e561-4f26-b6cd-b650324c064d",
   "metadata": {},
   "source": [
    "### Worst-case time complexity"
   ]
  },
  {
   "cell_type": "markdown",
   "id": "602df04b-c595-4420-80da-23ae040e75a9",
   "metadata": {},
   "source": [
    "The worst case for this algorithm is when the input is sorted reversely. In this case, the total number of swaps needed is: $(n-1) + (n-2) + (n-3) + ... + 1 = 1 + 2 + 3 + ... + (n-1) = \\sum_{k=1}^{n-1}k = \\frac{n(n-1)}{2}$ where $n$ is the lenght of the input list. For the purpose of Big O notation we ignore all coefficients and lower terms. Therefore, the worst time complexity of the Bubble sort is $O(n^2)$."
   ]
  },
  {
   "cell_type": "markdown",
   "id": "fb0277b2-65e3-43e8-bb6c-49fb8e5be4cf",
   "metadata": {},
   "source": [
    "### Best-case time complexity"
   ]
  },
  {
   "cell_type": "markdown",
   "id": "6862412e-bdf7-495e-bff7-a40132b6bbeb",
   "metadata": {},
   "source": [
    "The best case for this algorithm is when the input is already sorted. In this case it will take $n$ steps to complete. Therefore, the best case time complexity for this algorithm is $O(n)$."
   ]
  },
  {
   "cell_type": "markdown",
   "id": "45330fc5-0c47-4e6c-bd7c-4a7426ad9774",
   "metadata": {},
   "source": [
    "### Average-case time complexity"
   ]
  },
  {
   "cell_type": "markdown",
   "id": "cfc80281-49c1-453d-aa03-00e2ede23a39",
   "metadata": {},
   "source": [
    "The average-case for this algorithm is when the half of the elements in the input array is sorted. In this case the total number of swaps needed is $\\frac{(n-1)+(n-2)+(n-3)+...+1}{2}=\\frac{1+2+3+...+(n-1)}{2}=\\sum_{k=1}^{n-1}\\frac{k}{2} = \\frac{n(n-1)}{4}$ where $n$ is the lenght of the input list. For the purpose of Big O notation we ignore all coefficients and lower terms. Therefore, the average time complexity of the Bubble sort is $O(n^2)$."
   ]
  },
  {
   "cell_type": "markdown",
   "id": "4e40a714-a2a9-4f0e-9744-e5b369eb3eef",
   "metadata": {},
   "source": [
    "### Space complexity"
   ]
  },
  {
   "cell_type": "markdown",
   "id": "79adb165-2225-4aa9-af8c-93715c04c3f4",
   "metadata": {},
   "source": [
    "This algorith requires constant amount of memory space. It does not depend on the input size. The space complexity is $O(1)$."
   ]
  }
 ],
 "metadata": {
  "kernelspec": {
   "display_name": "Python 3 (ipykernel)",
   "language": "python",
   "name": "python3"
  },
  "language_info": {
   "codemirror_mode": {
    "name": "ipython",
    "version": 3
   },
   "file_extension": ".py",
   "mimetype": "text/x-python",
   "name": "python",
   "nbconvert_exporter": "python",
   "pygments_lexer": "ipython3",
   "version": "3.9.7"
  }
 },
 "nbformat": 4,
 "nbformat_minor": 5
}
