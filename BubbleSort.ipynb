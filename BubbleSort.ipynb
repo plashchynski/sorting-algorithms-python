{
 "cells": [
  {
   "cell_type": "markdown",
   "id": "d4094822-5bb3-4814-be77-bbe6585d71d0",
   "metadata": {},
   "source": [
    "# Bubble sort"
   ]
  },
  {
   "cell_type": "markdown",
   "id": "fc51f1f2-7253-498c-a6cd-ff163c5f19a1",
   "metadata": {},
   "source": [
    "The Bubble sort algorithm works by repeatedly swapping the adjacent elements if they are in wrong order"
   ]
  },
  {
   "cell_type": "markdown",
   "id": "8d4ecd3a-f960-45f9-9dec-6bd253927324",
   "metadata": {},
   "source": [
    "## Implementation"
   ]
  },
  {
   "cell_type": "code",
   "execution_count": 1,
   "id": "01067581-3baa-4a2a-87bb-65370caf759d",
   "metadata": {},
   "outputs": [],
   "source": [
    "def bubble_sort(list):\n",
    "    swapped = True\n",
    "    n = len(list)-1\n",
    "    while swapped:\n",
    "        swapped = False\n",
    "        for index in range(n):\n",
    "            if list[index] > list[index+1]:\n",
    "                # Move a higher value forward by swapping list[index] and list[index+1] elements \n",
    "                list[index], list[index+1] = list[index+1], list[index]\n",
    "                swapped = True\n",
    "        n -= 1\n",
    "    return list"
   ]
  },
  {
   "cell_type": "markdown",
   "id": "a544ce47-0a1d-427a-9f10-d43b83af9be8",
   "metadata": {},
   "source": [
    "## Demonstration"
   ]
  },
  {
   "cell_type": "markdown",
   "id": "f1f1e3aa-aa4d-49c5-bdf4-6f3b8f981677",
   "metadata": {},
   "source": [
    "Generate a sample list with random values"
   ]
  },
  {
   "cell_type": "code",
   "execution_count": 2,
   "id": "0261c817-5eb5-4fce-bd6e-8b5b2317e735",
   "metadata": {},
   "outputs": [
    {
     "name": "stdout",
     "output_type": "stream",
     "text": [
      "[873, 381, 384, 458, 103, 534, 578, 714, 568, 200, 332, 897, 984, 999, 344, 620, 99, 510, 935, 382, 747, 565, 593, 912, 172, 823, 690, 729, 875, 291, 749, 17, 32, 76, 79, 656, 201, 106, 598, 824, 499, 296, 38, 86, 693, 204, 67, 52, 596, 633, 927, 905, 678, 324, 911, 165, 293, 691, 118, 69, 803, 923, 585, 857, 584, 651, 264, 924, 270, 670, 599, 758, 781, 497, 485, 57, 331, 929, 723, 132, 85, 308, 239, 259, 641, 447, 836, 909, 830, 595, 479, 671, 716, 536, 707, 754, 11, 668, 621, 751]\n"
     ]
    }
   ],
   "source": [
    "import random\n",
    "\n",
    "sample_list = random.sample(range(1000), 100)\n",
    "\n",
    "print(sample_list)"
   ]
  },
  {
   "cell_type": "markdown",
   "id": "1214c1b7-1750-46cb-8f1f-e6f833a452ee",
   "metadata": {},
   "source": [
    "Sort this sample with a Bubble sort function:"
   ]
  },
  {
   "cell_type": "code",
   "execution_count": 3,
   "id": "26abeadd-12e2-4a68-9da3-e4c9c182a792",
   "metadata": {},
   "outputs": [
    {
     "name": "stdout",
     "output_type": "stream",
     "text": [
      "[11, 17, 32, 38, 52, 57, 67, 69, 76, 79, 85, 86, 99, 103, 106, 118, 132, 165, 172, 200, 201, 204, 239, 259, 264, 270, 291, 293, 296, 308, 324, 331, 332, 344, 381, 382, 384, 447, 458, 479, 485, 497, 499, 510, 534, 536, 565, 568, 578, 584, 585, 593, 595, 596, 598, 599, 620, 621, 633, 641, 651, 656, 668, 670, 671, 678, 690, 691, 693, 707, 714, 716, 723, 729, 747, 749, 751, 754, 758, 781, 803, 823, 824, 830, 836, 857, 873, 875, 897, 905, 909, 911, 912, 923, 924, 927, 929, 935, 984, 999]\n"
     ]
    }
   ],
   "source": [
    "result = bubble_sort(sample_list)\n",
    "\n",
    "print(result)"
   ]
  },
  {
   "cell_type": "markdown",
   "id": "ef75c9b1-8e46-4de4-b737-8f27b2eb2e46",
   "metadata": {},
   "source": [
    "## Analysis"
   ]
  },
  {
   "cell_type": "markdown",
   "id": "60fa93fc-e561-4f26-b6cd-b650324c064d",
   "metadata": {},
   "source": [
    "### Worst-case time complexity"
   ]
  },
  {
   "cell_type": "markdown",
   "id": "602df04b-c595-4420-80da-23ae040e75a9",
   "metadata": {},
   "source": [
    "The worst case for this algorithm is when the input is sorted reversely. In this case, the total number of swaps needed is: $(n-1) + (n-2) + (n-3) + ... + 1 = 1 + 2 + 3 + ... + (n-1) = \\sum_{k=1}^{n-1}k = \\frac{n(n-1)}{2}$ where $n$ is the lenght of the input list. For the purpose of Big O notation we ignore all coefficients and lower terms. Therefore, the worst time complexity of the Bubble sort is $O(n^2)$."
   ]
  },
  {
   "cell_type": "markdown",
   "id": "fb0277b2-65e3-43e8-bb6c-49fb8e5be4cf",
   "metadata": {},
   "source": [
    "### Best-case time complexity"
   ]
  },
  {
   "cell_type": "markdown",
   "id": "6862412e-bdf7-495e-bff7-a40132b6bbeb",
   "metadata": {},
   "source": [
    "The best case for this algorithm is when the input is already sorted. In this case it will take $n$ steps to complete. Therefore, the best case time complexity for this algorithm is $O(n)$."
   ]
  },
  {
   "cell_type": "markdown",
   "id": "45330fc5-0c47-4e6c-bd7c-4a7426ad9774",
   "metadata": {},
   "source": [
    "### Average-case time complexity"
   ]
  },
  {
   "cell_type": "markdown",
   "id": "cfc80281-49c1-453d-aa03-00e2ede23a39",
   "metadata": {},
   "source": [
    "The average-case for this algorithm is when the half of the elements in the input array is sorted. In this case the total number of swaps needed is $\\frac{(n-1)+(n-2)+(n-3)+...+1}{2}=\\frac{1+2+3+...+(n-1)}{2}=\\sum_{k=1}^{n-1}\\frac{k}{2} = \\frac{n(n-1)}{4}$ where $n$ is the lenght of the input list. For the purpose of Big O notation we ignore all coefficients and lower terms. Therefore, the average time complexity of the Bubble sort is $O(n^2)$."
   ]
  },
  {
   "cell_type": "markdown",
   "id": "4e40a714-a2a9-4f0e-9744-e5b369eb3eef",
   "metadata": {},
   "source": [
    "### Space complexity"
   ]
  },
  {
   "cell_type": "markdown",
   "id": "79adb165-2225-4aa9-af8c-93715c04c3f4",
   "metadata": {},
   "source": [
    "This algorith requires constant amount of memory space. It does not depend on the input size. The space complexity is $O(1)$."
   ]
  }
 ],
 "metadata": {
  "kernelspec": {
   "display_name": "Python 3 (ipykernel)",
   "language": "python",
   "name": "python3"
  },
  "language_info": {
   "codemirror_mode": {
    "name": "ipython",
    "version": 3
   },
   "file_extension": ".py",
   "mimetype": "text/x-python",
   "name": "python",
   "nbconvert_exporter": "python",
   "pygments_lexer": "ipython3",
   "version": "3.9.7"
  }
 },
 "nbformat": 4,
 "nbformat_minor": 5
}
