{
 "cells": [
  {
   "cell_type": "markdown",
   "id": "d4094822-5bb3-4814-be77-bbe6585d71d0",
   "metadata": {},
   "source": [
    "# Insertion sort"
   ]
  },
  {
   "cell_type": "markdown",
   "id": "8d4ecd3a-f960-45f9-9dec-6bd253927324",
   "metadata": {},
   "source": [
    "## Implementation"
   ]
  },
  {
   "cell_type": "code",
   "execution_count": 12,
   "id": "01067581-3baa-4a2a-87bb-65370caf759d",
   "metadata": {},
   "outputs": [],
   "source": [
    "def insertion_sort(list):\n",
    "    for j in range(1,len(list)):\n",
    "        ins = list[j]\n",
    "        i = j-1\n",
    "        while i>=0 and ins<list[i]:\n",
    "            list[i+1] = list[i]\n",
    "            i-=1\n",
    "        list[i+1] = ins\n",
    "    return list"
   ]
  },
  {
   "cell_type": "markdown",
   "id": "a544ce47-0a1d-427a-9f10-d43b83af9be8",
   "metadata": {},
   "source": [
    "## Demonstration"
   ]
  },
  {
   "cell_type": "markdown",
   "id": "f1f1e3aa-aa4d-49c5-bdf4-6f3b8f981677",
   "metadata": {},
   "source": [
    "Generate a sample list with random values"
   ]
  },
  {
   "cell_type": "code",
   "execution_count": 13,
   "id": "0261c817-5eb5-4fce-bd6e-8b5b2317e735",
   "metadata": {},
   "outputs": [
    {
     "name": "stdout",
     "output_type": "stream",
     "text": [
      "[53, 658, 43, 157, 679, 469, 443, 595, 374, 854, 593, 366, 80, 733, 632, 547, 780, 378, 929, 553, 557, 525, 729, 430, 458, 239, 369, 111, 783, 957, 54, 416, 20, 907, 786, 904, 985, 126, 82, 14, 135, 452, 192, 442, 590, 834, 410, 63, 450, 22, 930, 199, 370, 77, 58, 381, 717, 449, 151, 213, 656, 977, 406, 333, 238, 927, 817, 47, 899, 84, 78, 176, 541, 390, 591, 27, 964, 49, 596, 255, 454, 271, 515, 256, 739, 865, 716, 191, 240, 266, 686, 997, 456, 513, 856, 684, 319, 94, 805, 569]\n"
     ]
    }
   ],
   "source": [
    "import random\n",
    "\n",
    "sample_list = random.sample(range(1000), 100)\n",
    "\n",
    "print(sample_list)"
   ]
  },
  {
   "cell_type": "markdown",
   "id": "1214c1b7-1750-46cb-8f1f-e6f833a452ee",
   "metadata": {},
   "source": [
    "Sort this sample with a Bubble sort function:"
   ]
  },
  {
   "cell_type": "code",
   "execution_count": 14,
   "id": "26abeadd-12e2-4a68-9da3-e4c9c182a792",
   "metadata": {},
   "outputs": [
    {
     "name": "stdout",
     "output_type": "stream",
     "text": [
      "[14, 20, 22, 27, 43, 47, 49, 53, 54, 58, 63, 77, 78, 80, 82, 84, 94, 111, 126, 135, 151, 157, 176, 191, 192, 199, 213, 238, 239, 240, 255, 256, 266, 271, 319, 333, 366, 369, 370, 374, 378, 381, 390, 406, 410, 416, 430, 442, 443, 449, 450, 452, 454, 456, 458, 469, 513, 515, 525, 541, 547, 553, 557, 569, 590, 591, 593, 595, 596, 632, 656, 658, 679, 684, 686, 716, 717, 729, 733, 739, 780, 783, 786, 805, 817, 834, 854, 856, 865, 899, 904, 907, 927, 929, 930, 957, 964, 977, 985, 997]\n"
     ]
    }
   ],
   "source": [
    "result = insertion_sort(sample_list)\n",
    "\n",
    "print(result)"
   ]
  },
  {
   "cell_type": "markdown",
   "id": "ef75c9b1-8e46-4de4-b737-8f27b2eb2e46",
   "metadata": {},
   "source": [
    "## Analysis"
   ]
  },
  {
   "cell_type": "markdown",
   "id": "5885a5c4-3b42-42b8-b453-55fbfd6feb8a",
   "metadata": {},
   "source": [
    "### Worst-case time complexity"
   ]
  },
  {
   "cell_type": "markdown",
   "id": "602df04b-c595-4420-80da-23ae040e75a9",
   "metadata": {},
   "source": [
    "The worst case for this algorithm is when the input is sorted reversely. In this case, the total number of swaps needed is:\n",
    "$1 + 2 + 3 + ... + (n-1) = \\sum_{k=1}^{n-1}k = \\frac{n(n-1)}{2}$ where $n$ is the lenght of the input list. For the purpose of Big O notation we ignore all coefficients and lower terms. Therefore, the worst time complexity of the Bubble sort is $O(n^2)$."
   ]
  },
  {
   "cell_type": "markdown",
   "id": "9dbead58-0bd5-4759-9f2c-64917bce1ecf",
   "metadata": {
    "tags": []
   },
   "source": [
    "### Space complexity"
   ]
  },
  {
   "cell_type": "markdown",
   "id": "79a2a06b-e09d-499d-842e-1a47b5934b18",
   "metadata": {},
   "source": [
    "This algorith requires constant amount of memory space. It does not depend on the input size. The space complexity is $O(1)$."
   ]
  }
 ],
 "metadata": {
  "kernelspec": {
   "display_name": "Python 3 (ipykernel)",
   "language": "python",
   "name": "python3"
  },
  "language_info": {
   "codemirror_mode": {
    "name": "ipython",
    "version": 3
   },
   "file_extension": ".py",
   "mimetype": "text/x-python",
   "name": "python",
   "nbconvert_exporter": "python",
   "pygments_lexer": "ipython3",
   "version": "3.9.7"
  }
 },
 "nbformat": 4,
 "nbformat_minor": 5
}
