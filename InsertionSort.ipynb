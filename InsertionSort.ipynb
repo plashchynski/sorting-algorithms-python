{
 "cells": [
  {
   "cell_type": "markdown",
   "id": "d4094822-5bb3-4814-be77-bbe6585d71d0",
   "metadata": {},
   "source": [
    "# Insertion sort"
   ]
  },
  {
   "cell_type": "markdown",
   "id": "8d4ecd3a-f960-45f9-9dec-6bd253927324",
   "metadata": {},
   "source": [
    "## Implementation"
   ]
  },
  {
   "cell_type": "code",
   "execution_count": 1,
   "id": "01067581-3baa-4a2a-87bb-65370caf759d",
   "metadata": {},
   "outputs": [],
   "source": [
    "def insertion_sort(list):\n",
    "    for j in range(1,len(list)):\n",
    "        ins = list[j]\n",
    "        i = j-1\n",
    "        while i>=0 and ins<list[i]:\n",
    "            list[i+1] = list[i]\n",
    "            i-=1\n",
    "        list[i+1] = ins\n",
    "    return list"
   ]
  },
  {
   "cell_type": "markdown",
   "id": "a544ce47-0a1d-427a-9f10-d43b83af9be8",
   "metadata": {},
   "source": [
    "## Demonstration"
   ]
  },
  {
   "cell_type": "markdown",
   "id": "f1f1e3aa-aa4d-49c5-bdf4-6f3b8f981677",
   "metadata": {},
   "source": [
    "Generate a sample list with random values"
   ]
  },
  {
   "cell_type": "code",
   "execution_count": 2,
   "id": "0261c817-5eb5-4fce-bd6e-8b5b2317e735",
   "metadata": {},
   "outputs": [
    {
     "name": "stdout",
     "output_type": "stream",
     "text": [
      "[802, 302, 771, 892, 942, 897, 563, 357, 84, 896, 823, 662, 147, 340, 112, 118, 529, 693, 832, 877, 628, 306, 863, 215, 517, 677, 500, 948, 724, 145, 586, 35, 603, 141, 928, 491, 831, 403, 307, 634, 398, 822, 880, 489, 479, 531, 371, 964, 194, 749, 38, 815, 946, 992, 100, 366, 748, 137, 21, 719, 583, 45, 210, 821, 265, 814, 692, 867, 409, 555, 975, 601, 88, 607, 15, 709, 220, 316, 389, 219, 338, 152, 941, 198, 997, 750, 861, 571, 983, 914, 163, 793, 860, 534, 475, 876, 274, 561, 688, 664]\n"
     ]
    }
   ],
   "source": [
    "import random\n",
    "\n",
    "sample_list = random.sample(range(1000), 100)\n",
    "\n",
    "print(sample_list)"
   ]
  },
  {
   "cell_type": "markdown",
   "id": "1214c1b7-1750-46cb-8f1f-e6f833a452ee",
   "metadata": {},
   "source": [
    "Sort this sample with a Bubble sort function:"
   ]
  },
  {
   "cell_type": "code",
   "execution_count": 3,
   "id": "26abeadd-12e2-4a68-9da3-e4c9c182a792",
   "metadata": {},
   "outputs": [
    {
     "name": "stdout",
     "output_type": "stream",
     "text": [
      "[15, 21, 35, 38, 45, 84, 88, 100, 112, 118, 137, 141, 145, 147, 152, 163, 194, 198, 210, 215, 219, 220, 265, 274, 302, 306, 307, 316, 338, 340, 357, 366, 371, 389, 398, 403, 409, 475, 479, 489, 491, 500, 517, 529, 531, 534, 555, 561, 563, 571, 583, 586, 601, 603, 607, 628, 634, 662, 664, 677, 688, 692, 693, 709, 719, 724, 748, 749, 750, 771, 793, 802, 814, 815, 821, 822, 823, 831, 832, 860, 861, 863, 867, 876, 877, 880, 892, 896, 897, 914, 928, 941, 942, 946, 948, 964, 975, 983, 992, 997]\n"
     ]
    }
   ],
   "source": [
    "result = insertion_sort(sample_list)\n",
    "\n",
    "print(result)"
   ]
  },
  {
   "cell_type": "markdown",
   "id": "ef75c9b1-8e46-4de4-b737-8f27b2eb2e46",
   "metadata": {},
   "source": [
    "## Analysis"
   ]
  },
  {
   "cell_type": "markdown",
   "id": "5885a5c4-3b42-42b8-b453-55fbfd6feb8a",
   "metadata": {},
   "source": [
    "### Worst-case time complexity"
   ]
  },
  {
   "cell_type": "markdown",
   "id": "602df04b-c595-4420-80da-23ae040e75a9",
   "metadata": {},
   "source": [
    "The worst case for this algorithm is when the input is sorted reversely. In this case, the total number of swaps needed is:\n",
    "$1 + 2 + 3 + ... + (n-1) = \\sum_{k=1}^{n-1}k = \\frac{n(n-1)}{2}$ where $n$ is the lenght of the input list. For the purpose of Big O notation we ignore all coefficients and lower terms. Therefore, the worst time complexity of the Bubble sort is $O(n^2)$."
   ]
  },
  {
   "cell_type": "markdown",
   "id": "9dbead58-0bd5-4759-9f2c-64917bce1ecf",
   "metadata": {
    "tags": []
   },
   "source": [
    "### Space complexity"
   ]
  },
  {
   "cell_type": "markdown",
   "id": "79a2a06b-e09d-499d-842e-1a47b5934b18",
   "metadata": {},
   "source": [
    "This algorith requires constant amount of memory space. It does not depend on the input size. The space complexity is $O(1)$."
   ]
  }
 ],
 "metadata": {
  "kernelspec": {
   "display_name": "Python 3 (ipykernel)",
   "language": "python",
   "name": "python3"
  },
  "language_info": {
   "codemirror_mode": {
    "name": "ipython",
    "version": 3
   },
   "file_extension": ".py",
   "mimetype": "text/x-python",
   "name": "python",
   "nbconvert_exporter": "python",
   "pygments_lexer": "ipython3",
   "version": "3.9.7"
  }
 },
 "nbformat": 4,
 "nbformat_minor": 5
}
