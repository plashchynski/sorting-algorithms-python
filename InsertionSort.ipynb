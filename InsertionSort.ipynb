{
 "cells": [
  {
   "cell_type": "markdown",
   "id": "d4094822-5bb3-4814-be77-bbe6585d71d0",
   "metadata": {},
   "source": [
    "# Insertion sort"
   ]
  },
  {
   "cell_type": "markdown",
   "id": "646e1204-8520-4eec-a185-11348b846334",
   "metadata": {},
   "source": [
    "The list is split into a sorted and an unsorted part. Values from the unsorted part are picked and placed at the correct position in the sorted part."
   ]
  },
  {
   "cell_type": "markdown",
   "id": "8d4ecd3a-f960-45f9-9dec-6bd253927324",
   "metadata": {},
   "source": [
    "## Implementation"
   ]
  },
  {
   "cell_type": "code",
   "execution_count": 1,
   "id": "01067581-3baa-4a2a-87bb-65370caf759d",
   "metadata": {},
   "outputs": [],
   "source": [
    "def insertion_sort(list):\n",
    "    for j in range(1,len(list)):\n",
    "        ins = list[j]\n",
    "        i = j-1\n",
    "        while i>=0 and ins<list[i]:\n",
    "            list[i+1] = list[i]\n",
    "            i-=1\n",
    "        list[i+1] = ins\n",
    "    return list"
   ]
  },
  {
   "cell_type": "markdown",
   "id": "a544ce47-0a1d-427a-9f10-d43b83af9be8",
   "metadata": {},
   "source": [
    "## Demonstration"
   ]
  },
  {
   "cell_type": "markdown",
   "id": "f1f1e3aa-aa4d-49c5-bdf4-6f3b8f981677",
   "metadata": {},
   "source": [
    "Generate a sample list with random values"
   ]
  },
  {
   "cell_type": "code",
   "execution_count": 2,
   "id": "0261c817-5eb5-4fce-bd6e-8b5b2317e735",
   "metadata": {},
   "outputs": [
    {
     "name": "stdout",
     "output_type": "stream",
     "text": [
      "[544, 766, 393, 762, 835, 305, 771, 779, 123, 238, 639, 342, 640, 646, 508, 293, 434, 175, 296, 635, 382, 860, 831, 669, 952, 857, 100, 883, 550, 325, 306, 280, 698, 552, 311, 450, 263, 703, 437, 971, 258, 167, 616, 681, 24, 956, 888, 609, 275, 283, 79, 373, 528, 516, 683, 611, 124, 641, 492, 173, 586, 915, 310, 319, 787, 731, 982, 663, 253, 520, 462, 717, 540, 493, 479, 903, 145, 50, 925, 656, 231, 723, 799, 934, 914, 571, 539, 613, 104, 16, 697, 748, 27, 628, 446, 940, 400, 239, 517, 189]\n"
     ]
    }
   ],
   "source": [
    "import random\n",
    "\n",
    "sample_list = random.sample(range(1000), 100)\n",
    "\n",
    "print(sample_list)"
   ]
  },
  {
   "cell_type": "markdown",
   "id": "1214c1b7-1750-46cb-8f1f-e6f833a452ee",
   "metadata": {},
   "source": [
    "Sort this sample with a Bubble sort function:"
   ]
  },
  {
   "cell_type": "code",
   "execution_count": 3,
   "id": "26abeadd-12e2-4a68-9da3-e4c9c182a792",
   "metadata": {},
   "outputs": [
    {
     "name": "stdout",
     "output_type": "stream",
     "text": [
      "[16, 24, 27, 50, 79, 100, 104, 123, 124, 145, 167, 173, 175, 189, 231, 238, 239, 253, 258, 263, 275, 280, 283, 293, 296, 305, 306, 310, 311, 319, 325, 342, 373, 382, 393, 400, 434, 437, 446, 450, 462, 479, 492, 493, 508, 516, 517, 520, 528, 539, 540, 544, 550, 552, 571, 586, 609, 611, 613, 616, 628, 635, 639, 640, 641, 646, 656, 663, 669, 681, 683, 697, 698, 703, 717, 723, 731, 748, 762, 766, 771, 779, 787, 799, 831, 835, 857, 860, 883, 888, 903, 914, 915, 925, 934, 940, 952, 956, 971, 982]\n"
     ]
    }
   ],
   "source": [
    "result = insertion_sort(sample_list)\n",
    "\n",
    "assert result == sorted(sample_list), \"The result is not sorted\"\n",
    "\n",
    "print(result)"
   ]
  },
  {
   "cell_type": "markdown",
   "id": "ef75c9b1-8e46-4de4-b737-8f27b2eb2e46",
   "metadata": {},
   "source": [
    "## Analysis"
   ]
  },
  {
   "cell_type": "markdown",
   "id": "5885a5c4-3b42-42b8-b453-55fbfd6feb8a",
   "metadata": {},
   "source": [
    "### Worst-case time complexity"
   ]
  },
  {
   "cell_type": "markdown",
   "id": "602df04b-c595-4420-80da-23ae040e75a9",
   "metadata": {},
   "source": [
    "The worst case for this algorithm is when the input is sorted reversely. In this case, the total number of swaps needed is:\n",
    "$1 + 2 + 3 + ... + (n-1) = \\sum_{k=1}^{n-1}k = \\frac{n(n-1)}{2}$ where $n$ is the lenght of the input list. For the purpose of Big O notation we ignore all coefficients and lower terms. Therefore, the worst time complexity of the Insertion sort is $O(n^2)$."
   ]
  },
  {
   "cell_type": "markdown",
   "id": "70221dcd-71fd-4612-b2c9-3f9e5ad58cf0",
   "metadata": {},
   "source": [
    "### Best-case time complexity"
   ]
  },
  {
   "cell_type": "markdown",
   "id": "94a5bcc4-9189-4115-8f1e-fdfd876e444d",
   "metadata": {},
   "source": [
    "The best case for this algorithm is when the input is already sorted. In this case it will take $n$ steps to complete. Therefore, the best case time complexity for this algorithm is $O(n)$."
   ]
  },
  {
   "cell_type": "markdown",
   "id": "1de096b3-f6d3-43ac-ae44-4e2891e8f12f",
   "metadata": {},
   "source": [
    "### Average-case time complexity"
   ]
  },
  {
   "cell_type": "markdown",
   "id": "91faab90-c7a7-4a5b-acbd-b381e295d917",
   "metadata": {},
   "source": [
    "The average-case for this algorithm is when the half of the elements in the input array is sorted. In this case the total number of swaps needed is $\\frac{(n-1)+(n-2)+(n-3)+...+1}{2}=\\frac{1+2+3+...+(n-1)}{2}=\\sum_{k=1}^{n-1}\\frac{k}{2} = \\frac{n(n-1)}{4}$ where $n$ is the lenght of the input list. For the purpose of Big O notation we ignore all coefficients and lower terms. Therefore, the average time complexity of the Bubble sort is $O(n^2)$."
   ]
  },
  {
   "cell_type": "markdown",
   "id": "9dbead58-0bd5-4759-9f2c-64917bce1ecf",
   "metadata": {
    "tags": []
   },
   "source": [
    "### Space complexity"
   ]
  },
  {
   "cell_type": "markdown",
   "id": "79a2a06b-e09d-499d-842e-1a47b5934b18",
   "metadata": {},
   "source": [
    "This algorith requires constant amount of memory space. It does not depend on the input size. The space complexity is $O(1)$."
   ]
  }
 ],
 "metadata": {
  "kernelspec": {
   "display_name": "Python 3 (ipykernel)",
   "language": "python",
   "name": "python3"
  },
  "language_info": {
   "codemirror_mode": {
    "name": "ipython",
    "version": 3
   },
   "file_extension": ".py",
   "mimetype": "text/x-python",
   "name": "python",
   "nbconvert_exporter": "python",
   "pygments_lexer": "ipython3",
   "version": "3.9.7"
  }
 },
 "nbformat": 4,
 "nbformat_minor": 5
}
