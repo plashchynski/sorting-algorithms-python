{
 "cells": [
  {
   "cell_type": "markdown",
   "id": "d4094822-5bb3-4814-be77-bbe6585d71d0",
   "metadata": {},
   "source": [
    "# Bubble sort"
   ]
  },
  {
   "cell_type": "markdown",
   "id": "8d4ecd3a-f960-45f9-9dec-6bd253927324",
   "metadata": {},
   "source": [
    "## Implementation"
   ]
  },
  {
   "cell_type": "code",
   "execution_count": 1,
   "id": "01067581-3baa-4a2a-87bb-65370caf759d",
   "metadata": {},
   "outputs": [],
   "source": [
    "def bubble_sort(list):\n",
    "    swapped = True\n",
    "    n = len(list)-1\n",
    "    while swapped:\n",
    "        swapped = False\n",
    "        for index in range(n):\n",
    "            if list[index] > list[index+1]:\n",
    "                # Move a higher value forward by swapping list[index] and list[index+1] elements \n",
    "                tmp = list[index]\n",
    "                list[index] = list[index+1]\n",
    "                list[index+1] = tmp\n",
    "                swapped = True\n",
    "        n -= 1\n",
    "    return list"
   ]
  },
  {
   "cell_type": "markdown",
   "id": "a544ce47-0a1d-427a-9f10-d43b83af9be8",
   "metadata": {},
   "source": [
    "## Demonstration"
   ]
  },
  {
   "cell_type": "markdown",
   "id": "f1f1e3aa-aa4d-49c5-bdf4-6f3b8f981677",
   "metadata": {},
   "source": [
    "Generate a sample list with random values"
   ]
  },
  {
   "cell_type": "code",
   "execution_count": 2,
   "id": "0261c817-5eb5-4fce-bd6e-8b5b2317e735",
   "metadata": {},
   "outputs": [
    {
     "name": "stdout",
     "output_type": "stream",
     "text": [
      "[754, 634, 174, 133, 890, 426, 939, 360, 203, 435, 859, 978, 419, 362, 919, 50, 439, 733, 35, 694, 582, 243, 44, 48, 575, 482, 753, 293, 996, 448, 299, 637, 624, 120, 160, 530, 279, 343, 949, 254, 337, 97, 376, 620, 910, 675, 985, 518, 71, 839, 58, 259, 105, 371, 95, 289, 911, 183, 271, 340, 610, 311, 249, 864, 433, 55, 349, 335, 884, 99, 775, 465, 869, 561, 222, 368, 326, 484, 516, 931, 401, 876, 65, 469, 827, 547, 7, 164, 601, 796, 974, 553, 699, 769, 443, 177, 470, 643, 563, 197]\n"
     ]
    }
   ],
   "source": [
    "import random\n",
    "\n",
    "sample_list = random.sample(range(1000), 100)\n",
    "\n",
    "print(sample_list)"
   ]
  },
  {
   "cell_type": "markdown",
   "id": "1214c1b7-1750-46cb-8f1f-e6f833a452ee",
   "metadata": {},
   "source": [
    "Sort this sample with a Bubble sort function:"
   ]
  },
  {
   "cell_type": "code",
   "execution_count": 3,
   "id": "26abeadd-12e2-4a68-9da3-e4c9c182a792",
   "metadata": {},
   "outputs": [
    {
     "name": "stdout",
     "output_type": "stream",
     "text": [
      "[7, 35, 44, 48, 50, 55, 58, 65, 71, 95, 97, 99, 105, 120, 133, 160, 164, 174, 177, 183, 197, 203, 222, 243, 249, 254, 259, 271, 279, 289, 293, 299, 311, 326, 335, 337, 340, 343, 349, 360, 362, 368, 371, 376, 401, 419, 426, 433, 435, 439, 443, 448, 465, 469, 470, 482, 484, 516, 518, 530, 547, 553, 561, 563, 575, 582, 601, 610, 620, 624, 634, 637, 643, 675, 694, 699, 733, 753, 754, 769, 775, 796, 827, 839, 859, 864, 869, 876, 884, 890, 910, 911, 919, 931, 939, 949, 974, 978, 985, 996]\n"
     ]
    }
   ],
   "source": [
    "result = bubble_sort(sample_list)\n",
    "\n",
    "print(result)"
   ]
  },
  {
   "cell_type": "markdown",
   "id": "ef75c9b1-8e46-4de4-b737-8f27b2eb2e46",
   "metadata": {},
   "source": [
    "## Time complexity analysis"
   ]
  },
  {
   "cell_type": "markdown",
   "id": "602df04b-c595-4420-80da-23ae040e75a9",
   "metadata": {},
   "source": [
    "The worst case for this algorithm is when the input is sorted reversely. In this case, the total number of swaps needed is: $1 + 2 + 3 + ... + n = \\sum_{k=1}^{n}k = \\frac{n(n+1)}{2}$ where $n$ is the lenght of the input list. For the purpose of Big O notation we ignore all coefficients. Therefore, the worst time complexity of the Bubble sort is $O(n^2)$."
   ]
  }
 ],
 "metadata": {
  "kernelspec": {
   "display_name": "Python 3 (ipykernel)",
   "language": "python",
   "name": "python3"
  },
  "language_info": {
   "codemirror_mode": {
    "name": "ipython",
    "version": 3
   },
   "file_extension": ".py",
   "mimetype": "text/x-python",
   "name": "python",
   "nbconvert_exporter": "python",
   "pygments_lexer": "ipython3",
   "version": "3.9.7"
  }
 },
 "nbformat": 4,
 "nbformat_minor": 5
}
