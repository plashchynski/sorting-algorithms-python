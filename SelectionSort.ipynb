{
 "cells": [
  {
   "cell_type": "markdown",
   "id": "d4094822-5bb3-4814-be77-bbe6585d71d0",
   "metadata": {},
   "source": [
    "# Selection sort"
   ]
  },
  {
   "cell_type": "markdown",
   "id": "80b68d95-c2bc-46b6-b43e-038166788e46",
   "metadata": {},
   "source": [
    "The selection sort algorithm sorts a list by repeatedly finding the minimum element from unsorted part and putting it at the beginning."
   ]
  },
  {
   "cell_type": "markdown",
   "id": "8d4ecd3a-f960-45f9-9dec-6bd253927324",
   "metadata": {},
   "source": [
    "## Implementation"
   ]
  },
  {
   "cell_type": "code",
   "execution_count": 1,
   "id": "01067581-3baa-4a2a-87bb-65370caf759d",
   "metadata": {},
   "outputs": [],
   "source": [
    "def selection_sort(list):\n",
    "    for j in range(len(list)):\n",
    "        min_index = j\n",
    "        for i in range(j+1, len(list)):\n",
    "            if list[min_index] > list[i]:\n",
    "                min_index = i\n",
    "        list[j], list[min_index] = list[min_index], list[j]\n",
    "    return list"
   ]
  },
  {
   "cell_type": "markdown",
   "id": "a544ce47-0a1d-427a-9f10-d43b83af9be8",
   "metadata": {},
   "source": [
    "## Demonstration"
   ]
  },
  {
   "cell_type": "markdown",
   "id": "f1f1e3aa-aa4d-49c5-bdf4-6f3b8f981677",
   "metadata": {},
   "source": [
    "Generate a sample list with random values"
   ]
  },
  {
   "cell_type": "code",
   "execution_count": 2,
   "id": "0261c817-5eb5-4fce-bd6e-8b5b2317e735",
   "metadata": {},
   "outputs": [
    {
     "name": "stdout",
     "output_type": "stream",
     "text": [
      "[953, 89, 610, 469, 303, 234, 17, 616, 95, 73, 697, 527, 565, 743, 179, 260, 443, 67, 836, 58, 0, 480, 985, 433, 13, 732, 136, 556, 838, 181, 678, 791, 952, 685, 61, 965, 725, 245, 414, 822, 175, 158, 150, 882, 139, 692, 901, 121, 182, 123, 983, 448, 761, 949, 704, 446, 62, 215, 913, 951, 375, 631, 467, 222, 977, 51, 143, 669, 194, 380, 699, 944, 896, 729, 137, 585, 817, 227, 322, 615, 223, 207, 90, 831, 437, 247, 664, 762, 643, 600, 409, 496, 190, 717, 231, 970, 846, 20, 871, 88]\n"
     ]
    }
   ],
   "source": [
    "import random\n",
    "\n",
    "sample_list = random.sample(range(1000), 100)\n",
    "\n",
    "print(sample_list)"
   ]
  },
  {
   "cell_type": "markdown",
   "id": "1214c1b7-1750-46cb-8f1f-e6f833a452ee",
   "metadata": {},
   "source": [
    "Sort this sample with a Bubble sort function:"
   ]
  },
  {
   "cell_type": "code",
   "execution_count": 3,
   "id": "26abeadd-12e2-4a68-9da3-e4c9c182a792",
   "metadata": {},
   "outputs": [
    {
     "name": "stdout",
     "output_type": "stream",
     "text": [
      "[0, 13, 17, 20, 51, 58, 61, 62, 67, 73, 88, 89, 90, 95, 121, 123, 136, 137, 139, 143, 150, 158, 175, 179, 181, 182, 190, 194, 207, 215, 222, 223, 227, 231, 234, 245, 247, 260, 303, 322, 375, 380, 409, 414, 433, 437, 443, 446, 448, 467, 469, 480, 496, 527, 556, 565, 585, 600, 610, 615, 616, 631, 643, 664, 669, 678, 685, 692, 697, 699, 704, 717, 725, 729, 732, 743, 761, 762, 791, 817, 822, 831, 836, 838, 846, 871, 882, 896, 901, 913, 944, 949, 951, 952, 953, 965, 970, 977, 983, 985]\n"
     ]
    }
   ],
   "source": [
    "result = selection_sort(sample_list)\n",
    "\n",
    "print(result)"
   ]
  },
  {
   "cell_type": "markdown",
   "id": "ef75c9b1-8e46-4de4-b737-8f27b2eb2e46",
   "metadata": {},
   "source": [
    "## Analysis"
   ]
  },
  {
   "cell_type": "markdown",
   "id": "5885a5c4-3b42-42b8-b453-55fbfd6feb8a",
   "metadata": {},
   "source": [
    "### Time complexity"
   ]
  },
  {
   "cell_type": "markdown",
   "id": "602df04b-c595-4420-80da-23ae040e75a9",
   "metadata": {},
   "source": [
    "Since we for each element in a list we should traverse all elements from the unsorted part, the time complexity of Selection sort does not depend on actual content of the list. The total number of swaps needed is: $(n-1) + (n-2) + (n-3) + ... + 1 = 1 + 2 + 3 + ... + (n-1) = \\sum_{k=1}^{n-1}k = \\frac{n(n-1)}{2}$ where $n$ is the lenght of the input list. For the purpose of Big O notation we ignore all coefficients and lower terms. Therefore, the worst time complexity of the Bubble sort is $O(n^2)$."
   ]
  },
  {
   "cell_type": "markdown",
   "id": "9dbead58-0bd5-4759-9f2c-64917bce1ecf",
   "metadata": {
    "tags": []
   },
   "source": [
    "### Space complexity"
   ]
  },
  {
   "cell_type": "markdown",
   "id": "79a2a06b-e09d-499d-842e-1a47b5934b18",
   "metadata": {},
   "source": [
    "This algorith requires constant amount of memory space. It does not depend on the input size. The space complexity is $O(1)$."
   ]
  }
 ],
 "metadata": {
  "kernelspec": {
   "display_name": "Python 3 (ipykernel)",
   "language": "python",
   "name": "python3"
  },
  "language_info": {
   "codemirror_mode": {
    "name": "ipython",
    "version": 3
   },
   "file_extension": ".py",
   "mimetype": "text/x-python",
   "name": "python",
   "nbconvert_exporter": "python",
   "pygments_lexer": "ipython3",
   "version": "3.9.7"
  }
 },
 "nbformat": 4,
 "nbformat_minor": 5
}
