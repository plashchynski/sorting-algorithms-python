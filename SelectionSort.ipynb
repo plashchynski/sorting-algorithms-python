{
 "cells": [
  {
   "cell_type": "markdown",
   "id": "d4094822-5bb3-4814-be77-bbe6585d71d0",
   "metadata": {},
   "source": [
    "# Selection sort"
   ]
  },
  {
   "cell_type": "markdown",
   "id": "80b68d95-c2bc-46b6-b43e-038166788e46",
   "metadata": {},
   "source": [
    "The selection sort algorithm sorts a list by repeatedly finding the minimum element from unsorted part and putting it at the beginning."
   ]
  },
  {
   "cell_type": "markdown",
   "id": "8d4ecd3a-f960-45f9-9dec-6bd253927324",
   "metadata": {},
   "source": [
    "## Implementation"
   ]
  },
  {
   "cell_type": "code",
   "execution_count": 1,
   "id": "01067581-3baa-4a2a-87bb-65370caf759d",
   "metadata": {},
   "outputs": [],
   "source": [
    "def selection_sort(list):\n",
    "    for j in range(len(list)):\n",
    "        min_index = j\n",
    "        for i in range(j+1, len(list)):\n",
    "            if list[min_index] > list[i]:\n",
    "                min_index = i\n",
    "        list[j], list[min_index] = list[min_index], list[j]\n",
    "    return list"
   ]
  },
  {
   "cell_type": "markdown",
   "id": "a544ce47-0a1d-427a-9f10-d43b83af9be8",
   "metadata": {},
   "source": [
    "## Demonstration"
   ]
  },
  {
   "cell_type": "markdown",
   "id": "f1f1e3aa-aa4d-49c5-bdf4-6f3b8f981677",
   "metadata": {},
   "source": [
    "Generate a sample list with random values"
   ]
  },
  {
   "cell_type": "code",
   "execution_count": 2,
   "id": "0261c817-5eb5-4fce-bd6e-8b5b2317e735",
   "metadata": {},
   "outputs": [
    {
     "name": "stdout",
     "output_type": "stream",
     "text": [
      "[820, 629, 323, 861, 160, 778, 401, 302, 975, 455, 697, 652, 688, 986, 383, 741, 718, 819, 673, 917, 826, 253, 175, 423, 695, 581, 78, 198, 100, 558, 719, 764, 525, 743, 399, 614, 865, 381, 226, 615, 794, 612, 341, 277, 724, 761, 46, 760, 330, 41, 878, 936, 594, 553, 787, 154, 515, 851, 726, 268, 326, 102, 2, 197, 750, 795, 918, 24, 930, 501, 239, 662, 131, 303, 729, 92, 932, 8, 195, 821, 867, 205, 981, 632, 593, 921, 978, 571, 206, 35, 597, 901, 727, 321, 450, 58, 456, 292, 949, 216]\n"
     ]
    }
   ],
   "source": [
    "import random\n",
    "\n",
    "sample_list = random.sample(range(1000), 100)\n",
    "\n",
    "print(sample_list)"
   ]
  },
  {
   "cell_type": "markdown",
   "id": "1214c1b7-1750-46cb-8f1f-e6f833a452ee",
   "metadata": {},
   "source": [
    "Sort this sample with a Bubble sort function:"
   ]
  },
  {
   "cell_type": "code",
   "execution_count": 3,
   "id": "26abeadd-12e2-4a68-9da3-e4c9c182a792",
   "metadata": {},
   "outputs": [
    {
     "name": "stdout",
     "output_type": "stream",
     "text": [
      "[2, 8, 24, 35, 41, 46, 58, 78, 92, 100, 102, 131, 154, 160, 175, 195, 197, 198, 205, 206, 216, 226, 239, 253, 268, 277, 292, 302, 303, 321, 323, 326, 330, 341, 381, 383, 399, 401, 423, 450, 455, 456, 501, 515, 525, 553, 558, 571, 581, 593, 594, 597, 612, 614, 615, 629, 632, 652, 662, 673, 688, 695, 697, 718, 719, 724, 726, 727, 729, 741, 743, 750, 760, 761, 764, 778, 787, 794, 795, 819, 820, 821, 826, 851, 861, 865, 867, 878, 901, 917, 918, 921, 930, 932, 936, 949, 975, 978, 981, 986]\n"
     ]
    }
   ],
   "source": [
    "result = selection_sort(sample_list)\n",
    "\n",
    "assert result == sorted(sample_list), \"The result is not sorted\"\n",
    "\n",
    "print(result)"
   ]
  },
  {
   "cell_type": "markdown",
   "id": "ef75c9b1-8e46-4de4-b737-8f27b2eb2e46",
   "metadata": {},
   "source": [
    "## Analysis"
   ]
  },
  {
   "cell_type": "markdown",
   "id": "5885a5c4-3b42-42b8-b453-55fbfd6feb8a",
   "metadata": {},
   "source": [
    "### Time complexity"
   ]
  },
  {
   "cell_type": "markdown",
   "id": "602df04b-c595-4420-80da-23ae040e75a9",
   "metadata": {},
   "source": [
    "Since we for each element in a list we should traverse all elements from the unsorted part, the time complexity of Selection sort does not depend on actual content of the list. The total number of comparisons needed is: $(n-1) + (n-2) + (n-3) + ... + 1 = 1 + 2 + 3 + ... + (n-1) = \\sum_{k=1}^{n-1}k = \\frac{n(n-1)}{2}$ where $n$ is the lenght of the input list. For the purpose of Big O notation we ignore all coefficients and lower terms. Therefore, the time complexity of the Selection sort for the best, average, and worst cases is $O(n^2)$."
   ]
  },
  {
   "cell_type": "markdown",
   "id": "9dbead58-0bd5-4759-9f2c-64917bce1ecf",
   "metadata": {
    "tags": []
   },
   "source": [
    "### Space complexity"
   ]
  },
  {
   "cell_type": "markdown",
   "id": "79a2a06b-e09d-499d-842e-1a47b5934b18",
   "metadata": {},
   "source": [
    "This algorith requires constant amount of memory space. It does not depend on the input size. The space complexity is $O(1)$."
   ]
  }
 ],
 "metadata": {
  "kernelspec": {
   "display_name": "Python 3 (ipykernel)",
   "language": "python",
   "name": "python3"
  },
  "language_info": {
   "codemirror_mode": {
    "name": "ipython",
    "version": 3
   },
   "file_extension": ".py",
   "mimetype": "text/x-python",
   "name": "python",
   "nbconvert_exporter": "python",
   "pygments_lexer": "ipython3",
   "version": "3.9.7"
  }
 },
 "nbformat": 4,
 "nbformat_minor": 5
}
